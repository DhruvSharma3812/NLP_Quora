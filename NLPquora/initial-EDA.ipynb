{
 "cells": [
  {
   "cell_type": "markdown",
   "id": "457a53e0-48dc-46b7-9500-9cd1088c98d3",
   "metadata": {},
   "source": [
    "## Explorary data analysis"
   ]
  },
  {
   "cell_type": "code",
   "execution_count": 4,
   "id": "470eb04b-a90a-4988-b586-293280c0b382",
   "metadata": {},
   "outputs": [],
   "source": [
    "# !pip install seaborn"
   ]
  },
  {
   "cell_type": "code",
   "execution_count": 31,
   "id": "77e6a77d-e39c-4286-94d5-9e27494eff73",
   "metadata": {},
   "outputs": [],
   "source": [
    "import numpy as np\n",
    "import pandas as pd\n",
    "import seaborn as sns\n",
    "import matplotlib.pyplot as plt"
   ]
  },
  {
   "cell_type": "code",
   "execution_count": 32,
   "id": "b4f2428e-a06f-480d-a33f-8ffce35c18a2",
   "metadata": {},
   "outputs": [],
   "source": [
    "df = pd.read_csv(\"train.csv\")"
   ]
  },
  {
   "cell_type": "code",
   "execution_count": 33,
   "id": "08643d51-62df-4fa1-96a1-4b56e9bc2afe",
   "metadata": {},
   "outputs": [
    {
     "data": {
      "text/plain": [
       "(404290, 6)"
      ]
     },
     "execution_count": 33,
     "metadata": {},
     "output_type": "execute_result"
    }
   ],
   "source": [
    "df.shape"
   ]
  },
  {
   "cell_type": "code",
   "execution_count": 34,
   "id": "65b5317d-f8c5-4130-a3ab-aef03bf82d5d",
   "metadata": {},
   "outputs": [
    {
     "data": {
      "text/html": [
       "<div>\n",
       "<style scoped>\n",
       "    .dataframe tbody tr th:only-of-type {\n",
       "        vertical-align: middle;\n",
       "    }\n",
       "\n",
       "    .dataframe tbody tr th {\n",
       "        vertical-align: top;\n",
       "    }\n",
       "\n",
       "    .dataframe thead th {\n",
       "        text-align: right;\n",
       "    }\n",
       "</style>\n",
       "<table border=\"1\" class=\"dataframe\">\n",
       "  <thead>\n",
       "    <tr style=\"text-align: right;\">\n",
       "      <th></th>\n",
       "      <th>id</th>\n",
       "      <th>qid1</th>\n",
       "      <th>qid2</th>\n",
       "      <th>question1</th>\n",
       "      <th>question2</th>\n",
       "      <th>is_duplicate</th>\n",
       "    </tr>\n",
       "  </thead>\n",
       "  <tbody>\n",
       "    <tr>\n",
       "      <th>0</th>\n",
       "      <td>0</td>\n",
       "      <td>1</td>\n",
       "      <td>2</td>\n",
       "      <td>What is the step by step guide to invest in sh...</td>\n",
       "      <td>What is the step by step guide to invest in sh...</td>\n",
       "      <td>0</td>\n",
       "    </tr>\n",
       "    <tr>\n",
       "      <th>1</th>\n",
       "      <td>1</td>\n",
       "      <td>3</td>\n",
       "      <td>4</td>\n",
       "      <td>What is the story of Kohinoor (Koh-i-Noor) Dia...</td>\n",
       "      <td>What would happen if the Indian government sto...</td>\n",
       "      <td>0</td>\n",
       "    </tr>\n",
       "    <tr>\n",
       "      <th>2</th>\n",
       "      <td>2</td>\n",
       "      <td>5</td>\n",
       "      <td>6</td>\n",
       "      <td>How can I increase the speed of my internet co...</td>\n",
       "      <td>How can Internet speed be increased by hacking...</td>\n",
       "      <td>0</td>\n",
       "    </tr>\n",
       "    <tr>\n",
       "      <th>3</th>\n",
       "      <td>3</td>\n",
       "      <td>7</td>\n",
       "      <td>8</td>\n",
       "      <td>Why am I mentally very lonely? How can I solve...</td>\n",
       "      <td>Find the remainder when [math]23^{24}[/math] i...</td>\n",
       "      <td>0</td>\n",
       "    </tr>\n",
       "    <tr>\n",
       "      <th>4</th>\n",
       "      <td>4</td>\n",
       "      <td>9</td>\n",
       "      <td>10</td>\n",
       "      <td>Which one dissolve in water quikly sugar, salt...</td>\n",
       "      <td>Which fish would survive in salt water?</td>\n",
       "      <td>0</td>\n",
       "    </tr>\n",
       "  </tbody>\n",
       "</table>\n",
       "</div>"
      ],
      "text/plain": [
       "   id  qid1  qid2                                          question1  \\\n",
       "0   0     1     2  What is the step by step guide to invest in sh...   \n",
       "1   1     3     4  What is the story of Kohinoor (Koh-i-Noor) Dia...   \n",
       "2   2     5     6  How can I increase the speed of my internet co...   \n",
       "3   3     7     8  Why am I mentally very lonely? How can I solve...   \n",
       "4   4     9    10  Which one dissolve in water quikly sugar, salt...   \n",
       "\n",
       "                                           question2  is_duplicate  \n",
       "0  What is the step by step guide to invest in sh...             0  \n",
       "1  What would happen if the Indian government sto...             0  \n",
       "2  How can Internet speed be increased by hacking...             0  \n",
       "3  Find the remainder when [math]23^{24}[/math] i...             0  \n",
       "4            Which fish would survive in salt water?             0  "
      ]
     },
     "execution_count": 34,
     "metadata": {},
     "output_type": "execute_result"
    }
   ],
   "source": [
    "df.head()"
   ]
  },
  {
   "cell_type": "code",
   "execution_count": 35,
   "id": "76a809d4-a048-4e43-b05d-afec26374112",
   "metadata": {},
   "outputs": [
    {
     "name": "stdout",
     "output_type": "stream",
     "text": [
      "<class 'pandas.core.frame.DataFrame'>\n",
      "RangeIndex: 404290 entries, 0 to 404289\n",
      "Data columns (total 6 columns):\n",
      " #   Column        Non-Null Count   Dtype \n",
      "---  ------        --------------   ----- \n",
      " 0   id            404290 non-null  int64 \n",
      " 1   qid1          404290 non-null  int64 \n",
      " 2   qid2          404290 non-null  int64 \n",
      " 3   question1     404289 non-null  object\n",
      " 4   question2     404288 non-null  object\n",
      " 5   is_duplicate  404290 non-null  int64 \n",
      "dtypes: int64(4), object(2)\n",
      "memory usage: 18.5+ MB\n"
     ]
    }
   ],
   "source": [
    "df.info()"
   ]
  },
  {
   "cell_type": "code",
   "execution_count": 36,
   "id": "0c8f286f-0f61-4a93-abaf-b5cfe246ddf5",
   "metadata": {},
   "outputs": [
    {
     "data": {
      "text/plain": [
       "is_duplicate\n",
       "0    255027\n",
       "1    149263\n",
       "Name: count, dtype: int64"
      ]
     },
     "execution_count": 36,
     "metadata": {},
     "output_type": "execute_result"
    }
   ],
   "source": [
    "df['is_duplicate'].value_counts()"
   ]
  },
  {
   "cell_type": "code",
   "execution_count": 38,
   "id": "5a04a2d5-2f17-4889-8ef7-709d2fd8857d",
   "metadata": {},
   "outputs": [
    {
     "data": {
      "text/html": [
       "<div>\n",
       "<style scoped>\n",
       "    .dataframe tbody tr th:only-of-type {\n",
       "        vertical-align: middle;\n",
       "    }\n",
       "\n",
       "    .dataframe tbody tr th {\n",
       "        vertical-align: top;\n",
       "    }\n",
       "\n",
       "    .dataframe thead th {\n",
       "        text-align: right;\n",
       "    }\n",
       "</style>\n",
       "<table border=\"1\" class=\"dataframe\">\n",
       "  <thead>\n",
       "    <tr style=\"text-align: right;\">\n",
       "      <th></th>\n",
       "      <th>id</th>\n",
       "      <th>qid1</th>\n",
       "      <th>qid2</th>\n",
       "      <th>question1</th>\n",
       "      <th>question2</th>\n",
       "      <th>is_duplicate</th>\n",
       "    </tr>\n",
       "  </thead>\n",
       "  <tbody>\n",
       "    <tr>\n",
       "      <th>211465</th>\n",
       "      <td>211465</td>\n",
       "      <td>147735</td>\n",
       "      <td>12552</td>\n",
       "      <td>Is a law degree valuable for entrepreneurs?</td>\n",
       "      <td>Is it a good idea to go to law school if you d...</td>\n",
       "      <td>0</td>\n",
       "    </tr>\n",
       "    <tr>\n",
       "      <th>116036</th>\n",
       "      <td>116036</td>\n",
       "      <td>10942</td>\n",
       "      <td>1441</td>\n",
       "      <td>Where can I find a professional hacker?</td>\n",
       "      <td>How can I hire a hacker?</td>\n",
       "      <td>1</td>\n",
       "    </tr>\n",
       "    <tr>\n",
       "      <th>37690</th>\n",
       "      <td>37690</td>\n",
       "      <td>68557</td>\n",
       "      <td>68558</td>\n",
       "      <td>What are the best activities to do in Rome?</td>\n",
       "      <td>What are some of the best activities to do in ...</td>\n",
       "      <td>1</td>\n",
       "    </tr>\n",
       "    <tr>\n",
       "      <th>139284</th>\n",
       "      <td>139284</td>\n",
       "      <td>221602</td>\n",
       "      <td>221603</td>\n",
       "      <td>What is the best place for iphone 6 screen rep...</td>\n",
       "      <td>How can I get an iphone 6 with water damage re...</td>\n",
       "      <td>0</td>\n",
       "    </tr>\n",
       "    <tr>\n",
       "      <th>31692</th>\n",
       "      <td>31692</td>\n",
       "      <td>58414</td>\n",
       "      <td>58415</td>\n",
       "      <td>How did Abdaal M. Akhtar develop his soft skil...</td>\n",
       "      <td>Is coding enough for a CSE engineer or must he...</td>\n",
       "      <td>0</td>\n",
       "    </tr>\n",
       "    <tr>\n",
       "      <th>40907</th>\n",
       "      <td>40907</td>\n",
       "      <td>73948</td>\n",
       "      <td>73949</td>\n",
       "      <td>Is it legal to drink alcohol while in an RV?</td>\n",
       "      <td>Why do people drink alcohol from paper sacks i...</td>\n",
       "      <td>0</td>\n",
       "    </tr>\n",
       "    <tr>\n",
       "      <th>108375</th>\n",
       "      <td>108375</td>\n",
       "      <td>178089</td>\n",
       "      <td>178090</td>\n",
       "      <td>Is there a problem with Somali immigrants in F...</td>\n",
       "      <td>Why is Finland not in NATO?</td>\n",
       "      <td>0</td>\n",
       "    </tr>\n",
       "    <tr>\n",
       "      <th>274368</th>\n",
       "      <td>274368</td>\n",
       "      <td>80532</td>\n",
       "      <td>134892</td>\n",
       "      <td>Are the new Apple Macbook pros really worth th...</td>\n",
       "      <td>What do you think of the new MacBook Pro Apple...</td>\n",
       "      <td>1</td>\n",
       "    </tr>\n",
       "    <tr>\n",
       "      <th>248674</th>\n",
       "      <td>248674</td>\n",
       "      <td>171795</td>\n",
       "      <td>692</td>\n",
       "      <td>Which is the best mobile under 15000</td>\n",
       "      <td>Which are best mobile phones to buy under 15000?</td>\n",
       "      <td>1</td>\n",
       "    </tr>\n",
       "    <tr>\n",
       "      <th>49695</th>\n",
       "      <td>49695</td>\n",
       "      <td>88419</td>\n",
       "      <td>88420</td>\n",
       "      <td>What is the best evidence that 9/11 was an ins...</td>\n",
       "      <td>Was 9/11 incident an inside job?</td>\n",
       "      <td>1</td>\n",
       "    </tr>\n",
       "  </tbody>\n",
       "</table>\n",
       "</div>"
      ],
      "text/plain": [
       "            id    qid1    qid2  \\\n",
       "211465  211465  147735   12552   \n",
       "116036  116036   10942    1441   \n",
       "37690    37690   68557   68558   \n",
       "139284  139284  221602  221603   \n",
       "31692    31692   58414   58415   \n",
       "40907    40907   73948   73949   \n",
       "108375  108375  178089  178090   \n",
       "274368  274368   80532  134892   \n",
       "248674  248674  171795     692   \n",
       "49695    49695   88419   88420   \n",
       "\n",
       "                                                question1  \\\n",
       "211465        Is a law degree valuable for entrepreneurs?   \n",
       "116036            Where can I find a professional hacker?   \n",
       "37690         What are the best activities to do in Rome?   \n",
       "139284  What is the best place for iphone 6 screen rep...   \n",
       "31692   How did Abdaal M. Akhtar develop his soft skil...   \n",
       "40907        Is it legal to drink alcohol while in an RV?   \n",
       "108375  Is there a problem with Somali immigrants in F...   \n",
       "274368  Are the new Apple Macbook pros really worth th...   \n",
       "248674               Which is the best mobile under 15000   \n",
       "49695   What is the best evidence that 9/11 was an ins...   \n",
       "\n",
       "                                                question2  is_duplicate  \n",
       "211465  Is it a good idea to go to law school if you d...             0  \n",
       "116036                           How can I hire a hacker?             1  \n",
       "37690   What are some of the best activities to do in ...             1  \n",
       "139284  How can I get an iphone 6 with water damage re...             0  \n",
       "31692   Is coding enough for a CSE engineer or must he...             0  \n",
       "40907   Why do people drink alcohol from paper sacks i...             0  \n",
       "108375                        Why is Finland not in NATO?             0  \n",
       "274368  What do you think of the new MacBook Pro Apple...             1  \n",
       "248674   Which are best mobile phones to buy under 15000?             1  \n",
       "49695                    Was 9/11 incident an inside job?             1  "
      ]
     },
     "execution_count": 38,
     "metadata": {},
     "output_type": "execute_result"
    }
   ],
   "source": [
    "df.sample(10)"
   ]
  },
  {
   "cell_type": "code",
   "execution_count": 39,
   "id": "b30ab082-dba3-43f9-8f71-8cb9cb6b0a33",
   "metadata": {},
   "outputs": [
    {
     "data": {
      "text/plain": [
       "id              0\n",
       "qid1            0\n",
       "qid2            0\n",
       "question1       1\n",
       "question2       2\n",
       "is_duplicate    0\n",
       "dtype: int64"
      ]
     },
     "execution_count": 39,
     "metadata": {},
     "output_type": "execute_result"
    }
   ],
   "source": [
    "df.isnull().sum()"
   ]
  },
  {
   "cell_type": "code",
   "execution_count": 40,
   "id": "e7520809-b065-4e38-99de-31a99cdc0a54",
   "metadata": {},
   "outputs": [
    {
     "data": {
      "text/plain": [
       "0"
      ]
     },
     "execution_count": 40,
     "metadata": {},
     "output_type": "execute_result"
    }
   ],
   "source": [
    "df.duplicated().sum()                 #if any row is completely duplicate?"
   ]
  },
  {
   "cell_type": "code",
   "execution_count": 41,
   "id": "1b234f86-b375-4bd5-a2c9-db88d993ca6f",
   "metadata": {},
   "outputs": [
    {
     "name": "stdout",
     "output_type": "stream",
     "text": [
      "is_duplicate\n",
      "0    255027\n",
      "1    149263\n",
      "Name: count, dtype: int64\n",
      "is_duplicate\n",
      "0    63.080215\n",
      "1    36.919785\n",
      "Name: count, dtype: float64\n"
     ]
    },
    {
     "data": {
      "image/png": "[encoded data removed]",
      "text/plain": [
       "<Figure size 640x480 with 1 Axes>"
      ]
     },
     "metadata": {},
     "output_type": "display_data"
    }
   ],
   "source": [
    "# Distribution of duplicate and non-duplicate questions\n",
    "\n",
    "value_counts = df['is_duplicate'].value_counts()\n",
    "print(df['is_duplicate'].value_counts())\n",
    "print((df['is_duplicate'].value_counts()/df['is_duplicate'].count())*100)\n",
    "df['is_duplicate'].value_counts().plot(kind='bar')\n",
    "for i, value in enumerate(value_counts):\n",
    "    plt.text(i, value + 1, str(value), ha='center', va='bottom', fontweight='bold')\n"
   ]
  },
  {
   "cell_type": "code",
   "execution_count": 44,
   "id": "151b1d4f-7393-478c-b5a8-0ad781178b0d",
   "metadata": {},
   "outputs": [
    {
     "name": "stdout",
     "output_type": "stream",
     "text": [
      "Number of Unique Questions --> 537933\n",
      "Number of Questions Getting Repeated --> 111780\n"
     ]
    }
   ],
   "source": [
    "# Total repeated questions in the database\n",
    "\n",
    "qid = pd.Series(df['qid1'].tolist() + df['qid2'].tolist())\n",
    "print(\"Number of Unique Questions -->\",np.unique(qid).shape[0])\n",
    "x = qid.value_counts()>1\n",
    "print(\"Number of Questions Getting Repeated -->\",x[x].shape[0])"
   ]
  },
  {
   "cell_type": "code",
   "execution_count": 54,
   "id": "3748dbae-745f-4329-9004-6cc5c7a9098f",
   "metadata": {},
   "outputs": [
    {
     "data": {
      "text/html": [
       "<div>\n",
       "<style scoped>\n",
       "    .dataframe tbody tr th:only-of-type {\n",
       "        vertical-align: middle;\n",
       "    }\n",
       "\n",
       "    .dataframe tbody tr th {\n",
       "        vertical-align: top;\n",
       "    }\n",
       "\n",
       "    .dataframe thead th {\n",
       "        text-align: right;\n",
       "    }\n",
       "</style>\n",
       "<table border=\"1\" class=\"dataframe\">\n",
       "  <thead>\n",
       "    <tr style=\"text-align: right;\">\n",
       "      <th></th>\n",
       "      <th>id</th>\n",
       "      <th>qid1</th>\n",
       "      <th>qid2</th>\n",
       "      <th>question1</th>\n",
       "      <th>question2</th>\n",
       "      <th>is_duplicate</th>\n",
       "    </tr>\n",
       "  </thead>\n",
       "  <tbody>\n",
       "    <tr>\n",
       "      <th>296</th>\n",
       "      <td>296</td>\n",
       "      <td>592</td>\n",
       "      <td>593</td>\n",
       "      <td>How does concentric contractions differ from e...</td>\n",
       "      <td>How do concentric and eccentric contraction co...</td>\n",
       "      <td>1</td>\n",
       "    </tr>\n",
       "    <tr>\n",
       "      <th>3725</th>\n",
       "      <td>3725</td>\n",
       "      <td>7378</td>\n",
       "      <td>593</td>\n",
       "      <td>What are some symptoms of eccentric and concen...</td>\n",
       "      <td>How do concentric and eccentric contraction co...</td>\n",
       "      <td>1</td>\n",
       "    </tr>\n",
       "    <tr>\n",
       "      <th>166527</th>\n",
       "      <td>166527</td>\n",
       "      <td>73803</td>\n",
       "      <td>593</td>\n",
       "      <td>What are some characteristics of eccentric and...</td>\n",
       "      <td>How do concentric and eccentric contraction co...</td>\n",
       "      <td>1</td>\n",
       "    </tr>\n",
       "    <tr>\n",
       "      <th>214523</th>\n",
       "      <td>214523</td>\n",
       "      <td>73804</td>\n",
       "      <td>593</td>\n",
       "      <td>What are the differences between eccentric and...</td>\n",
       "      <td>How do concentric and eccentric contraction co...</td>\n",
       "      <td>1</td>\n",
       "    </tr>\n",
       "    <tr>\n",
       "      <th>314476</th>\n",
       "      <td>314476</td>\n",
       "      <td>36052</td>\n",
       "      <td>593</td>\n",
       "      <td>What are some characteristics of concentric an...</td>\n",
       "      <td>How do concentric and eccentric contraction co...</td>\n",
       "      <td>1</td>\n",
       "    </tr>\n",
       "  </tbody>\n",
       "</table>\n",
       "</div>"
      ],
      "text/plain": [
       "            id   qid1  qid2  \\\n",
       "296        296    592   593   \n",
       "3725      3725   7378   593   \n",
       "166527  166527  73803   593   \n",
       "214523  214523  73804   593   \n",
       "314476  314476  36052   593   \n",
       "\n",
       "                                                question1  \\\n",
       "296     How does concentric contractions differ from e...   \n",
       "3725    What are some symptoms of eccentric and concen...   \n",
       "166527  What are some characteristics of eccentric and...   \n",
       "214523  What are the differences between eccentric and...   \n",
       "314476  What are some characteristics of concentric an...   \n",
       "\n",
       "                                                question2  is_duplicate  \n",
       "296     How do concentric and eccentric contraction co...             1  \n",
       "3725    How do concentric and eccentric contraction co...             1  \n",
       "166527  How do concentric and eccentric contraction co...             1  \n",
       "214523  How do concentric and eccentric contraction co...             1  \n",
       "314476  How do concentric and eccentric contraction co...             1  "
      ]
     },
     "execution_count": 54,
     "metadata": {},
     "output_type": "execute_result"
    }
   ],
   "source": [
    "df[df['qid2'] == 593]"
   ]
  },
  {
   "cell_type": "code",
   "execution_count": 56,
   "id": "34ccabf8-efe1-4501-adfe-05c86ddfe57c",
   "metadata": {},
   "outputs": [
    {
     "data": {
      "image/png": "[encoded data removed]",
      "text/plain": [
       "<Figure size 640x480 with 1 Axes>"
      ]
     },
     "metadata": {},
     "output_type": "display_data"
    }
   ],
   "source": [
    "# Repeated question Histogram\n",
    "plt.hist(qid.value_counts().values,bins=160)\n",
    "plt.yscale(\"log\")\n",
    "plt.show()"
   ]
  },
  {
   "cell_type": "code",
   "execution_count": null,
   "id": "96d62001-6535-45fb-91c9-f5e6172a5e28",
   "metadata": {},
   "outputs": [],
   "source": []
  }
 ],
 "metadata": {
  "kernelspec": {
   "display_name": "Python (new_ml_env)",
   "language": "python",
   "name": "new_ml_env"
  },
  "language_info": {
   "codemirror_mode": {
    "name": "ipython",
    "version": 3
   },
   "file_extension": ".py",
   "mimetype": "text/x-python",
   "name": "python",
   "nbconvert_exporter": "python",
   "pygments_lexer": "ipython3",
   "version": "3.10.16"
  }
 },
 "nbformat": 4,
 "nbformat_minor": 5
}
